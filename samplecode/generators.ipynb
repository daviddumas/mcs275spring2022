{
 "cells": [
  {
   "cell_type": "markdown",
   "metadata": {},
   "source": [
    "# Generators\n",
    "MCS 275 Spring 2022 Lecture 43"
   ]
  },
  {
   "cell_type": "code",
   "execution_count": 1,
   "metadata": {},
   "outputs": [],
   "source": [
    "def cubes(n):\n",
    "    \"Returns the cubes of the integers 0, 1, 2, ..., n-1\"\n",
    "    L = []\n",
    "    for x in range(n):\n",
    "        L.append(x**3)\n",
    "    return L"
   ]
  },
  {
   "cell_type": "code",
   "execution_count": 2,
   "metadata": {},
   "outputs": [
    {
     "data": {
      "text/plain": [
       "[0, 1, 8, 27, 64]"
      ]
     },
     "execution_count": 2,
     "metadata": {},
     "output_type": "execute_result"
    }
   ],
   "source": [
    "cubes(5)"
   ]
  },
  {
   "cell_type": "code",
   "execution_count": 1,
   "metadata": {},
   "outputs": [],
   "source": [
    "def lazy_cubes(n):\n",
    "    \"Generator that yields the cubes of the integers 0, 1, 2, ..., n-1\"\n",
    "    print(\"lazy_cubes() starting up...\")\n",
    "    for x in range(n):\n",
    "        print(\"x={}, about to yield its cube\".format(x))\n",
    "        yield x**3\n",
    "    print(\"lazy_cubes() ending\")"
   ]
  },
  {
   "cell_type": "code",
   "execution_count": 2,
   "metadata": {},
   "outputs": [],
   "source": [
    "cubes_generator = lazy_cubes(5)"
   ]
  },
  {
   "cell_type": "code",
   "execution_count": 3,
   "metadata": {},
   "outputs": [
    {
     "name": "stdout",
     "output_type": "stream",
     "text": [
      "lazy_cubes() starting up...\n",
      "x=0, about to yield its cube\n",
      "I got this value: 0\n",
      "x=1, about to yield its cube\n",
      "I got this value: 1\n",
      "x=2, about to yield its cube\n",
      "I got this value: 8\n",
      "x=3, about to yield its cube\n",
      "I got this value: 27\n",
      "x=4, about to yield its cube\n",
      "I got this value: 64\n",
      "lazy_cubes() ending\n"
     ]
    }
   ],
   "source": [
    "for y in lazy_cubes(5):\n",
    "    print(\"I got this value:\",y)"
   ]
  },
  {
   "cell_type": "markdown",
   "metadata": {},
   "source": [
    "Let's go back to a less chatty version."
   ]
  },
  {
   "cell_type": "code",
   "execution_count": 4,
   "metadata": {},
   "outputs": [],
   "source": [
    "def lazy_cubes(n):\n",
    "    \"Generator that yields the cubes of the integers 0, 1, 2, ..., n-1\"\n",
    "    for x in range(n):\n",
    "        yield x**3"
   ]
  },
  {
   "cell_type": "markdown",
   "metadata": {},
   "source": [
    "In addition to using it in a `for` loop, we can store the return value and use that as an iterable."
   ]
  },
  {
   "cell_type": "code",
   "execution_count": 6,
   "metadata": {},
   "outputs": [],
   "source": [
    "cubes_generator = lazy_cubes(5)"
   ]
  },
  {
   "cell_type": "code",
   "execution_count": 7,
   "metadata": {},
   "outputs": [
    {
     "data": {
      "text/plain": [
       "<generator object lazy_cubes at 0x7f893a72c740>"
      ]
     },
     "execution_count": 7,
     "metadata": {},
     "output_type": "execute_result"
    }
   ],
   "source": [
    "cubes_generator"
   ]
  },
  {
   "cell_type": "code",
   "execution_count": 8,
   "metadata": {},
   "outputs": [
    {
     "name": "stdout",
     "output_type": "stream",
     "text": [
      "0\n",
      "1\n",
      "8\n",
      "27\n",
      "64\n"
     ]
    }
   ],
   "source": [
    "for y in cubes_generator:\n",
    "    print(y)"
   ]
  },
  {
   "cell_type": "markdown",
   "metadata": {},
   "source": [
    "It's a one-shot process, though.  If we try to iterate again, the generator yields nothing."
   ]
  },
  {
   "cell_type": "code",
   "execution_count": 10,
   "metadata": {},
   "outputs": [],
   "source": [
    "for y in cubes_generator:\n",
    "    print(y)"
   ]
  },
  {
   "cell_type": "markdown",
   "metadata": {},
   "source": [
    "We can single-step a generator using `next()`."
   ]
  },
  {
   "cell_type": "code",
   "execution_count": 12,
   "metadata": {},
   "outputs": [
    {
     "data": {
      "text/plain": [
       "0"
      ]
     },
     "execution_count": 12,
     "metadata": {},
     "output_type": "execute_result"
    }
   ],
   "source": [
    "g = lazy_cubes(4)\n",
    "next(g)"
   ]
  },
  {
   "cell_type": "code",
   "execution_count": 13,
   "metadata": {},
   "outputs": [
    {
     "data": {
      "text/plain": [
       "1"
      ]
     },
     "execution_count": 13,
     "metadata": {},
     "output_type": "execute_result"
    }
   ],
   "source": [
    "next(g)"
   ]
  },
  {
   "cell_type": "code",
   "execution_count": 14,
   "metadata": {},
   "outputs": [
    {
     "data": {
      "text/plain": [
       "8"
      ]
     },
     "execution_count": 14,
     "metadata": {},
     "output_type": "execute_result"
    }
   ],
   "source": [
    "next(g)"
   ]
  },
  {
   "cell_type": "code",
   "execution_count": 15,
   "metadata": {},
   "outputs": [
    {
     "data": {
      "text/plain": [
       "27"
      ]
     },
     "execution_count": 15,
     "metadata": {},
     "output_type": "execute_result"
    }
   ],
   "source": [
    "next(g)"
   ]
  },
  {
   "cell_type": "code",
   "execution_count": 16,
   "metadata": {},
   "outputs": [
    {
     "ename": "StopIteration",
     "evalue": "",
     "output_type": "error",
     "traceback": [
      "\u001b[0;31m---------------------------------------------------------------------------\u001b[0m",
      "\u001b[0;31mStopIteration\u001b[0m                             Traceback (most recent call last)",
      "\u001b[0;32m<ipython-input-16-e734f8aca5ac>\u001b[0m in \u001b[0;36m<module>\u001b[0;34m\u001b[0m\n\u001b[0;32m----> 1\u001b[0;31m \u001b[0mnext\u001b[0m\u001b[0;34m(\u001b[0m\u001b[0mg\u001b[0m\u001b[0;34m)\u001b[0m\u001b[0;34m\u001b[0m\u001b[0;34m\u001b[0m\u001b[0m\n\u001b[0m",
      "\u001b[0;31mStopIteration\u001b[0m: "
     ]
    }
   ],
   "source": [
    "next(g)"
   ]
  },
  {
   "cell_type": "markdown",
   "metadata": {},
   "source": [
    "A `for` loop is essentially equivalent to a `while` loop that breaks when it gets a `StopIteration`."
   ]
  },
  {
   "cell_type": "code",
   "execution_count": null,
   "metadata": {},
   "outputs": [],
   "source": [
    "for x in L:\n",
    "    print(x)\n",
    "else:\n",
    "    print(\"hello\")"
   ]
  },
  {
   "cell_type": "code",
   "execution_count": null,
   "metadata": {},
   "outputs": [],
   "source": [
    "while True:\n",
    "    try:\n",
    "        x = next(L)\n",
    "        print(x)\n",
    "    except StopIteration:\n",
    "        print(\"hello\")\n",
    "        break"
   ]
  },
  {
   "cell_type": "markdown",
   "metadata": {},
   "source": [
    "## Infinite generators\n",
    "\n",
    "A generator is not required to return.  It can yield values forever, thus representing an infinite sequence.\n",
    "\n",
    "It isn't even necessary to be able to tell whether it's going to return or not.  This doesn't matter until we actually use it in a loop."
   ]
  },
  {
   "cell_type": "code",
   "execution_count": 17,
   "metadata": {},
   "outputs": [],
   "source": [
    "def allcubes():\n",
    "    \"Generator yielding the cubes of all nonnegative integers\"\n",
    "    n = 0\n",
    "    while True:\n",
    "        yield n**3\n",
    "        n += 1"
   ]
  },
  {
   "cell_type": "code",
   "execution_count": 18,
   "metadata": {},
   "outputs": [],
   "source": [
    "def cubes_with_digit7():\n",
    "    \"Generator yielding all the cubes that contain 7 as a decimal digit\"\n",
    "    for c in allcubes():\n",
    "        if '7' in str(c):\n",
    "            yield c\n"
   ]
  },
  {
   "cell_type": "code",
   "execution_count": 23,
   "metadata": {},
   "outputs": [],
   "source": [
    "def cubes_with_digit7_and_at_most_4_digits():\n",
    "    \"Generator yielding the cubes containing 7 as a digit, and having at most 4 digits\"\n",
    "    for c in cubes_with_digit7():\n",
    "        if c >= 10**4:\n",
    "            return  # end generator\n",
    "        yield c"
   ]
  },
  {
   "cell_type": "code",
   "execution_count": 24,
   "metadata": {},
   "outputs": [
    {
     "name": "stdout",
     "output_type": "stream",
     "text": [
      "27\n",
      "729\n",
      "1728\n",
      "2197\n",
      "2744\n",
      "3375\n"
     ]
    }
   ],
   "source": [
    "for x in cubes_with_digit7_and_at_most_4_digits():\n",
    "    print(x)"
   ]
  },
  {
   "cell_type": "code",
   "execution_count": 25,
   "metadata": {},
   "outputs": [],
   "source": [
    "g = cubes_with_digit7_and_at_most_4_digits()"
   ]
  },
  {
   "cell_type": "code",
   "execution_count": 26,
   "metadata": {},
   "outputs": [
    {
     "data": {
      "text/plain": [
       "[27, 729, 1728, 2197, 2744, 3375]"
      ]
     },
     "execution_count": 26,
     "metadata": {},
     "output_type": "execute_result"
    }
   ],
   "source": [
    "list(g)  # unlazification of a generator"
   ]
  },
  {
   "cell_type": "markdown",
   "metadata": {},
   "source": [
    "## Yield from\n",
    "\n",
    "One generator can temporarily delegate the work to another, using `yield from`."
   ]
  },
  {
   "cell_type": "code",
   "execution_count": 30,
   "metadata": {},
   "outputs": [],
   "source": [
    "def powers_of(n):\n",
    "    \"Positive integer powers of n, starting with n**2\"\n",
    "    x = n**2\n",
    "    while True:\n",
    "        yield x\n",
    "        x *= n"
   ]
  },
  {
   "cell_type": "code",
   "execution_count": 31,
   "metadata": {},
   "outputs": [],
   "source": [
    "def powers_of_up_to(n,maxsize):\n",
    "    \"Positive integer powers of n, with exponent at least two, that are less than maxsize\"\n",
    "    for c in powers_of(n):\n",
    "        if c >= maxsize:\n",
    "            return\n",
    "        yield c"
   ]
  },
  {
   "cell_type": "code",
   "execution_count": 32,
   "metadata": {},
   "outputs": [],
   "source": [
    "def powers_up_to(maxsize):\n",
    "    \"Numbers less than maxsize that can be expressed as a power of an integer, with exponent at least 2\"\n",
    "    for base in range(2,maxsize+1):\n",
    "        yield from powers_of_up_to(base,maxsize)"
   ]
  },
  {
   "cell_type": "code",
   "execution_count": 35,
   "metadata": {},
   "outputs": [
    {
     "data": {
      "text/plain": [
       "[4,\n",
       " 8,\n",
       " 16,\n",
       " 32,\n",
       " 64,\n",
       " 128,\n",
       " 256,\n",
       " 9,\n",
       " 27,\n",
       " 81,\n",
       " 243,\n",
       " 16,\n",
       " 64,\n",
       " 256,\n",
       " 25,\n",
       " 125,\n",
       " 36,\n",
       " 216,\n",
       " 49,\n",
       " 64,\n",
       " 81,\n",
       " 100,\n",
       " 121,\n",
       " 144,\n",
       " 169,\n",
       " 196,\n",
       " 225,\n",
       " 256,\n",
       " 289]"
      ]
     },
     "execution_count": 35,
     "metadata": {},
     "output_type": "execute_result"
    }
   ],
   "source": [
    "list(powers_up_to(300))"
   ]
  },
  {
   "cell_type": "markdown",
   "metadata": {},
   "source": [
    "Notice how some numbers appear multiple times because they can be expressed as powers in multiple ways.  For example, 64 is both $8^2$ and $2^6$.  If we wanted no repeats, we could feed the results of this generator into the `set()` constructor, which stores only distinct elements."
   ]
  },
  {
   "cell_type": "code",
   "execution_count": 41,
   "metadata": {},
   "outputs": [
    {
     "data": {
      "text/plain": [
       "{4,\n",
       " 8,\n",
       " 9,\n",
       " 16,\n",
       " 25,\n",
       " 27,\n",
       " 32,\n",
       " 36,\n",
       " 49,\n",
       " 64,\n",
       " 81,\n",
       " 100,\n",
       " 121,\n",
       " 125,\n",
       " 128,\n",
       " 144,\n",
       " 169,\n",
       " 196,\n",
       " 216,\n",
       " 225,\n",
       " 243,\n",
       " 256,\n",
       " 289}"
      ]
     },
     "execution_count": 41,
     "metadata": {},
     "output_type": "execute_result"
    }
   ],
   "source": [
    "set(powers_up_to(300))"
   ]
  },
  {
   "cell_type": "code",
   "execution_count": 67,
   "metadata": {},
   "outputs": [],
   "source": [
    "def number_of_powers_less_than(n):\n",
    "    \"Number of distinct integers in [0,n] that are expressible as b**k for b nonnegative and k at least 2\"\n",
    "    return len(set(powers_up_to(n)))"
   ]
  },
  {
   "cell_type": "code",
   "execution_count": 44,
   "metadata": {},
   "outputs": [],
   "source": [
    "import matplotlib.pyplot as plt"
   ]
  },
  {
   "cell_type": "code",
   "execution_count": 48,
   "metadata": {},
   "outputs": [
    {
     "data": {
      "text/plain": [
       "Text(0.5, 0, 'N')"
      ]
     },
     "execution_count": 48,
     "metadata": {},
     "output_type": "execute_result"
    },
    {
     "data": {
      "image/png": "[encoded data removed]",
      "text/plain": [
       "<Figure size 432x288 with 1 Axes>"
      ]
     },
     "metadata": {
      "needs_background": "light"
     },
     "output_type": "display_data"
    }
   ],
   "source": [
    "x = list(range(500))\n",
    "y = [number_of_powers_less_than(t) for t in x]\n",
    "plt.plot(x,y)\n",
    "plt.title(\"Number of integer powers less than N\")\n",
    "plt.xlabel(\"N\")"
   ]
  },
  {
   "cell_type": "code",
   "execution_count": 59,
   "metadata": {},
   "outputs": [],
   "source": [
    "def fraction_cubes_containing7(n):\n",
    "    total = 0\n",
    "    contain7 = 0\n",
    "    for c in allcubes():\n",
    "        if c >= n:\n",
    "            return contain7/total\n",
    "        total += 1\n",
    "        if '7' in str(c):\n",
    "            contain7 += 1"
   ]
  },
  {
   "cell_type": "code",
   "execution_count": 71,
   "metadata": {},
   "outputs": [
    {
     "data": {
      "image/png": "[encoded data removed]",
      "text/plain": [
       "<Figure size 720x576 with 1 Axes>"
      ]
     },
     "metadata": {
      "needs_background": "light"
     },
     "output_type": "display_data"
    }
   ],
   "source": [
    "x = list( [ int(2**n) for n in range(60) ] )\n",
    "y = [100*fraction_cubes_containing7(t) for t in x]\n",
    "plt.figure(figsize=(10,8))\n",
    "plt.plot(x,y)\n",
    "plt.xscale(\"log\")\n",
    "plt.title(\"Cubes in [1,N] that have 7 as a digit\")\n",
    "plt.xlabel(\"N\")\n",
    "plt.ylabel(\"Fraction of cubes with a 7 (percent)\")\n",
    "plt.ylim(0,100)\n",
    "plt.show()"
   ]
  },
  {
   "cell_type": "code",
   "execution_count": null,
   "metadata": {},
   "outputs": [],
   "source": []
  }
 ],
 "metadata": {
  "kernelspec": {
   "display_name": "Python 3",
   "language": "python",
   "name": "python3"
  },
  "language_info": {
   "codemirror_mode": {
    "name": "ipython",
    "version": 3
   },
   "file_extension": ".py",
   "mimetype": "text/x-python",
   "name": "python",
   "nbconvert_exporter": "python",
   "pygments_lexer": "ipython3",
   "version": "3.8.10"
  }
 },
 "nbformat": 4,
 "nbformat_minor": 5
}

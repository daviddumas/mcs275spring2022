{
 "cells": [
  {
   "cell_type": "markdown",
   "metadata": {},
   "source": [
    "# Quick intro to `matplotlib`\n",
    "### MCS 275 Spring 2022 - David Dumas\n",
    "\n",
    "This is a quick tour of basic plotting with matplotlib.  For more detail see:\n",
    "* [Chapter 4 of VanderPlas](https://jakevdp.github.io/PythonDataScienceHandbook/04.00-introduction-to-matplotlib.html)\n",
    "\n",
    "You can install matplotlib on your own machine (e.g. `python3 -m pip install matplotlib`).  \n",
    "Matplotlib is often most used in a notebook setting.\n",
    "\n",
    "Matplotlib and numpy are pre-installed in the [Google Colab](https://colab.research.google.com/) notebook environment."
   ]
  },
  {
   "cell_type": "markdown",
   "metadata": {},
   "source": [
    "## Pre-lecture version\n",
    "\n",
    "This notebook has code in cells, but doesn't show their output.  These are working examples.\n",
    "\n",
    "In lecture I will fill in some examples from scratch and also show the output of the prepared examples.\n",
    "\n",
    "After lecture, I'll post an updated version of this notebook showing the output."
   ]
  },
  {
   "cell_type": "markdown",
   "metadata": {},
   "source": [
    "## Import matplotlib"
   ]
  },
  {
   "cell_type": "code",
   "execution_count": null,
   "metadata": {},
   "outputs": [],
   "source": [
    "# This submodule is all you need in most cases, and plt is a common\n",
    "# abbreviated name to use for it.\n",
    "import matplotlib.pyplot as plt\n",
    "\n",
    "# For a very few things you need access to the parent module\n",
    "# This also lets us check the installed version.\n",
    "# Uncomment the next two lines to import that.\n",
    "\n",
    "#   import matplotlib as mpl\n",
    "#   mpl.__version__"
   ]
  },
  {
   "cell_type": "code",
   "execution_count": null,
   "metadata": {},
   "outputs": [],
   "source": [
    "import numpy as np"
   ]
  },
  {
   "cell_type": "code",
   "execution_count": null,
   "metadata": {},
   "outputs": [],
   "source": [
    "#plt.style.available"
   ]
  },
  {
   "cell_type": "code",
   "execution_count": null,
   "metadata": {},
   "outputs": [],
   "source": [
    "#plt.style.use(\"seaborn-whitegrid\")"
   ]
  },
  {
   "cell_type": "markdown",
   "metadata": {},
   "source": [
    "## First line plot"
   ]
  },
  {
   "cell_type": "code",
   "execution_count": null,
   "metadata": {},
   "outputs": [],
   "source": [
    "x = np.linspace(start=-3,stop=3,num=100)\n",
    "y = np.exp(-x*x)\n",
    "plt.plot(x,y)\n",
    "plt.show()"
   ]
  },
  {
   "cell_type": "markdown",
   "metadata": {},
   "source": [
    "## Multiple plots and styling"
   ]
  },
  {
   "cell_type": "code",
   "execution_count": null,
   "metadata": {},
   "outputs": [],
   "source": [
    "x = np.linspace(start=-3,stop=3,num=100)\n",
    "y = np.exp(-x*x)\n",
    "y2 = 1.5*np.exp(-3*(x-2)**2)\n",
    "y3 = 0.8*np.exp(-4*(x+1)**2)\n",
    "\n",
    "x2 = np.linspace(start=-2,stop=4,num=150)\n",
    "y4 = 0.5*np.exp(-(x2-2)**2)*np.sin(6*x2)\n",
    "\n",
    "plt.plot(x,y)\n",
    "plt.plot(x,y2)\n",
    "plt.plot(x,y3)\n",
    "\n",
    "plt.plot(x2,y4)\n",
    "\n",
    "plt.show()"
   ]
  },
  {
   "cell_type": "markdown",
   "metadata": {},
   "source": [
    "## Adjusting axes"
   ]
  },
  {
   "cell_type": "code",
   "execution_count": null,
   "metadata": {},
   "outputs": [],
   "source": [
    "x = np.linspace(start=-3,stop=3,num=100)\n",
    "y = np.exp(-x*x)\n",
    "y2 = 1.5*np.exp(-3*(x-2)**2)\n",
    "y3 = 0.8*np.exp(-4*(x+1)**2)\n",
    "\n",
    "x2 = np.linspace(start=-2,stop=4,num=150)\n",
    "y4 = 0.5*np.exp(-(x2-2)**2)*np.sin(6*x2)\n",
    "\n",
    "plt.plot(x,y)\n",
    "plt.plot(x,y2)\n",
    "plt.plot(x,y3)\n",
    "\n",
    "plt.plot(x2,y4)\n",
    "\n",
    "plt.xlim(-1,3)\n",
    "plt.ylim(0,1.6)\n",
    "\n",
    "plt.show()"
   ]
  },
  {
   "cell_type": "markdown",
   "metadata": {},
   "source": [
    "## Parametric plot"
   ]
  },
  {
   "cell_type": "code",
   "execution_count": null,
   "metadata": {},
   "outputs": [],
   "source": [
    "t = np.linspace(0,2*np.pi,300)\n",
    "x = np.cos(t)\n",
    "y = np.sin(t)\n",
    "plt.plot(x,y)\n",
    "plt.plot(np.cos(3*t),np.sin(5*t))\n",
    "plt.axis(\"equal\")"
   ]
  },
  {
   "cell_type": "markdown",
   "metadata": {},
   "source": [
    "## Line plots can lie"
   ]
  },
  {
   "cell_type": "code",
   "execution_count": null,
   "metadata": {},
   "outputs": [],
   "source": [
    "x = np.linspace(start=-3,stop=3,num=100)\n",
    "y = np.tan(x)\n",
    "plt.plot(x,y)"
   ]
  },
  {
   "cell_type": "markdown",
   "metadata": {},
   "source": [
    "## Adding a legend"
   ]
  },
  {
   "cell_type": "code",
   "execution_count": null,
   "metadata": {},
   "outputs": [],
   "source": [
    "x = np.linspace(start=-3,stop=3,num=100)\n",
    "y = np.exp(-x*x)\n",
    "y2 = 1.5*np.exp(-3*(x-2)**2)\n",
    "y3 = 0.8*np.exp(-4*(x+1)**2)\n",
    "plt.figure(figsize=(8,6))\n",
    "plt.plot(x,y,label=\"$e^{-x^2}$\")\n",
    "plt.plot(x,y2,label=\"$1.5e^{-3(x-2)^2}$\")\n",
    "plt.plot(x,y3,label=\"$0.8e^{-4(x+1)^2}$\")\n",
    "plt.legend()\n",
    "plt.show()\n",
    "plt.savefig(\"three_gaussians.png\",dpi=300)\n",
    "plt.savefig(\"three_gaussians.pdf\")"
   ]
  },
  {
   "cell_type": "code",
   "execution_count": null,
   "metadata": {},
   "outputs": [],
   "source": [
    "x = np.linspace(start=-3,stop=3,num=100)\n",
    "y = np.exp(-x*x)\n",
    "y2 = 1.5*np.exp(-3*(x-2)**2)\n",
    "y3 = 0.8*np.exp(-4*(x+1)**2)\n",
    "plt.figure(figsize=(8,6))\n",
    "plt.plot(x,y,label=\"$e^{-x^2}$\",color=\"orange\",linestyle=\"dashed\",linewidth=5)\n",
    "plt.plot(x,y2,label=\"$1.5e^{-3(x-2)^2}$\",color=\"#FF0080\")\n",
    "plt.plot(x,y3,label=\"$0.8e^{-4(x+1)^2}$\",linestyle=\"dotted\")\n",
    "plt.legend()\n",
    "plt.show()"
   ]
  },
  {
   "cell_type": "code",
   "execution_count": null,
   "metadata": {},
   "outputs": [],
   "source": [
    "x = np.linspace(start=-3,stop=3,num=100)\n",
    "y = np.exp(-x*x)\n",
    "y2 = 1.5*np.exp(-3*(x-2)**2)\n",
    "y3 = 0.8*np.exp(-4*(x+1)**2)\n",
    "plt.figure(figsize=(8,6))\n",
    "plt.plot(x,y,label=\"$e^{-x^2}$\",color=\"orange\",linestyle=\"dashed\",linewidth=5)\n",
    "plt.plot(x,y2,label=\"$1.5e^{-3(x-2)^2}$\",color=\"#FF0080\",marker=\"*\")\n",
    "plt.plot(x,y3,label=\"$0.8e^{-4(x+1)^2}$\",linestyle=\"dotted\")\n",
    "plt.legend()\n",
    "plt.show()"
   ]
  },
  {
   "cell_type": "markdown",
   "metadata": {},
   "source": [
    "## Scatter plots"
   ]
  },
  {
   "cell_type": "code",
   "execution_count": null,
   "metadata": {},
   "outputs": [],
   "source": [
    "# Fundamentally, plt.plot shows the same marker symbol\n",
    "# (same size, shape, color) at each data point\n",
    "n = np.array([1,1.5,2,2.5,3.5,5])\n",
    "t = np.array([1.8,2.6,3.5,4.9,8.8,8.2])\n",
    "plt.plot(n,t,marker=\"o\",linestyle=\"\")"
   ]
  },
  {
   "cell_type": "code",
   "execution_count": null,
   "metadata": {},
   "outputs": [],
   "source": [
    "n = np.array([1,1.5,2,2.5,3.5,5])\n",
    "t = np.array([1.8,2.6,3.5,4.9,8.8,8.2])\n",
    "s = np.array([0.1,0.1,0.1,0.2,0.2,0.5])\n",
    "c = np.array([1,2,3,5,8,20])\n",
    "plt.scatter(n,t,s=250*s,c=c,marker=\"o\",cmap=\"hsv\")\n",
    "plt.colorbar()"
   ]
  },
  {
   "cell_type": "markdown",
   "metadata": {},
   "source": [
    "## Contour and density plots"
   ]
  },
  {
   "cell_type": "code",
   "execution_count": null,
   "metadata": {},
   "outputs": [],
   "source": [
    "x = np.linspace(-3,3,100)\n",
    "y = np.linspace(-2,2,80)\n",
    "xx,yy = np.meshgrid(x,y)"
   ]
  },
  {
   "cell_type": "code",
   "execution_count": null,
   "metadata": {},
   "outputs": [],
   "source": [
    "# f(x,y) = x**3 - 8x + 3*y**2\n",
    "zz = xx**3 - 8*xx + 3*yy**2  # 80x100 matrix of values of f on the grid"
   ]
  },
  {
   "cell_type": "code",
   "execution_count": null,
   "metadata": {},
   "outputs": [],
   "source": [
    "# f(x,y) = 0.2?\n",
    "plt.figure(figsize=(8,6))\n",
    "plt.contour(xx,yy,zz,[0.2])"
   ]
  },
  {
   "cell_type": "code",
   "execution_count": null,
   "metadata": {},
   "outputs": [],
   "source": [
    "plt.figure(figsize=(8,6))\n",
    "plt.contour(xx,yy,zz)\n",
    "plt.colorbar()"
   ]
  },
  {
   "cell_type": "markdown",
   "metadata": {},
   "source": [
    "### Adding labels to contours"
   ]
  },
  {
   "cell_type": "markdown",
   "metadata": {},
   "source": [
    "`plt.clabel` adds labels to an existing contour plot.  Its argument is the return value of a previous call to `plt.contour`."
   ]
  },
  {
   "cell_type": "code",
   "execution_count": null,
   "metadata": {},
   "outputs": [],
   "source": [
    "plt.figure(figsize=(8,6))\n",
    "contours = plt.contour(xx,yy,zz,15,cmap=\"magma\")\n",
    "plt.title(\"Contour plot\")\n",
    "plt.clabel(contours) # add inline labels to the contours\n",
    "plt.colorbar()"
   ]
  },
  {
   "cell_type": "markdown",
   "metadata": {},
   "source": [
    "### Density plots with `plt.imshow`"
   ]
  },
  {
   "cell_type": "code",
   "execution_count": null,
   "metadata": {},
   "outputs": [],
   "source": [
    "plt.figure(figsize=(8,6))\n",
    "plt.imshow(zz,extent=[np.min(x),np.max(x),np.min(y),np.max(y)],origin=\"lower\")\n",
    "# origin=\"lower\" means the first row of zz appears at the bottom of the plot.\n",
    "# That's correct since our meshgrid has smallest y values in the first row.\n",
    "plt.title(\"Density plot\")\n",
    "plt.colorbar()"
   ]
  },
  {
   "cell_type": "code",
   "execution_count": null,
   "metadata": {},
   "outputs": [],
   "source": [
    "plt.figure(figsize=(8,6))\n",
    "contours = plt.contour(xx,yy,zz,15,colors=\"white\")\n",
    "plt.title(\"Contour and density plot\")\n",
    "plt.clabel(contours) # add inline labels to the contours\n",
    "plt.imshow(zz,extent=[np.min(x),np.max(x),np.min(y),np.max(y)])\n",
    "plt.colorbar()"
   ]
  }
 ],
 "metadata": {
  "kernelspec": {
   "display_name": "Python 3",
   "language": "python",
   "name": "python3"
  },
  "language_info": {
   "codemirror_mode": {
    "name": "ipython",
    "version": 3
   },
   "file_extension": ".py",
   "mimetype": "text/x-python",
   "name": "python",
   "nbconvert_exporter": "python",
   "pygments_lexer": "ipython3",
   "version": "3.8.10"
  }
 },
 "nbformat": 4,
 "nbformat_minor": 4
}

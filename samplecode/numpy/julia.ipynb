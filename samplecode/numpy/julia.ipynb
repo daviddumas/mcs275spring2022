{
 "cells": [
  {
   "cell_type": "markdown",
   "metadata": {},
   "source": [
    "# Filled Julia sets\n",
    "\n",
    "MCS 275 Spring 2022 Lecture 27 - David Dumas"
   ]
  },
  {
   "cell_type": "markdown",
   "metadata": {},
   "source": [
    "## Orbit related functions"
   ]
  },
  {
   "cell_type": "code",
   "execution_count": 2,
   "metadata": {},
   "outputs": [],
   "source": [
    "# this is the one whose filled Julia set I want to draw in this notebook\n",
    "def g(z):\n",
    "    return z*z-1\n",
    "\n",
    "# we discussed this one in the slides\n",
    "def f(z):\n",
    "    return z*z"
   ]
  },
  {
   "cell_type": "code",
   "execution_count": 3,
   "metadata": {},
   "outputs": [],
   "source": [
    "def orbit(func,a,n):\n",
    "    \"\"\"\n",
    "    Takes a function `func` of one paramater, and a starting\n",
    "    value `a`.  Returns a list of length `n+1` consisting of\n",
    "    [a, f(a), f(f(a)), ... , f^n(a)]\n",
    "    \"\"\"\n",
    "    L = [a]\n",
    "    for _ in range(n):\n",
    "        # apply f to the last element computed\n",
    "        # and append the result\n",
    "        L.append( func(L[-1]) )\n",
    "    return L"
   ]
  },
  {
   "cell_type": "code",
   "execution_count": 4,
   "metadata": {},
   "outputs": [
    {
     "data": {
      "text/plain": [
       "[2, 4, 16, 256, 65536, 4294967296]"
      ]
     },
     "execution_count": 4,
     "metadata": {},
     "output_type": "execute_result"
    }
   ],
   "source": [
    "# try orbit of 1.5 under z^2-1\n",
    "# and 2 under z^2-1\n",
    "\n",
    "orbit(f,2,5)"
   ]
  },
  {
   "cell_type": "code",
   "execution_count": 5,
   "metadata": {},
   "outputs": [
    {
     "data": {
      "text/plain": [
       "[0.5, 0.25, 0.0625, 0.00390625, 1.52587890625e-05, 2.3283064365386963e-10]"
      ]
     },
     "execution_count": 5,
     "metadata": {},
     "output_type": "execute_result"
    }
   ],
   "source": [
    "orbit(f,1/2,5)"
   ]
  },
  {
   "cell_type": "code",
   "execution_count": 6,
   "metadata": {},
   "outputs": [
    {
     "data": {
      "text/plain": [
       "[2,\n",
       " 3,\n",
       " 8,\n",
       " 63,\n",
       " 3968,\n",
       " 15745023,\n",
       " 247905749270528,\n",
       " 61457260521381894004129398783,\n",
       " 3776994870793005510047522464634252677140721938309041881088,\n",
       " 14265690253996672387291309349232388828298289458234016200317876247121873778287073518355813134107244701354409532063743,\n",
       " 203509918422975643131625101557493482417516581321177887486174612349689723637228095885608636916042736102424433936617827686729959884103612889121780011527849662844136145473332830301242513425767433130492258922182178369327277600615170048]"
      ]
     },
     "execution_count": 6,
     "metadata": {},
     "output_type": "execute_result"
    }
   ],
   "source": [
    "orbit(g,2,10)\n",
    "# a=2 is not in K_g"
   ]
  },
  {
   "cell_type": "code",
   "execution_count": 8,
   "metadata": {},
   "outputs": [
    {
     "data": {
      "text/plain": [
       "[1.5,\n",
       " 1.25,\n",
       " 0.5625,\n",
       " -0.68359375,\n",
       " -0.5326995849609375,\n",
       " -0.7162311521824449,\n",
       " -0.4870129366434074,\n",
       " -0.7628183995419644,\n",
       " -0.418108089320236,\n",
       " -0.8251856256449815,\n",
       " -0.31906868322890036,\n",
       " -0.8981951753825757,\n",
       " -0.19324542691946411,\n",
       " -0.962656204974714,\n",
       " -0.07329303102368134,\n",
       " -0.9946281316033617,\n",
       " -0.010714879823205736,\n",
       " -0.9998851913503742,\n",
       " -0.00022960411822547933,\n",
       " -0.9999999472819489,\n",
       " -1.0543609951785271e-07,\n",
       " -0.9999999999999889,\n",
       " -2.220446049250313e-14,\n",
       " -1.0,\n",
       " 0.0,\n",
       " -1.0,\n",
       " 0.0,\n",
       " -1.0,\n",
       " 0.0,\n",
       " -1.0,\n",
       " 0.0]"
      ]
     },
     "execution_count": 8,
     "metadata": {},
     "output_type": "execute_result"
    }
   ],
   "source": [
    "orbit(g,1.5,30)\n",
    "# a=1.5 seems to be in K_g"
   ]
  },
  {
   "cell_type": "code",
   "execution_count": 9,
   "metadata": {},
   "outputs": [
    {
     "data": {
      "text/plain": [
       "[(0.5+0.5j),\n",
       " (-1+0.5j),\n",
       " (-0.25-1j),\n",
       " (-1.9375+0.5j),\n",
       " (2.50390625-1.9375j),\n",
       " (1.5156402587890625-9.70263671875j),\n",
       " (-92.84399390197359-29.41141365468502j),\n",
       " (7753.975950502717+5461.3462200079975j),\n",
       " (30297839.50617887+84694294.49462186j),\n",
       " (-6255164441199562+5132108283374204j),\n",
       " (1.2788546754169306e+31-6.42043624850961e+31j)]"
      ]
     },
     "execution_count": 9,
     "metadata": {},
     "output_type": "execute_result"
    }
   ],
   "source": [
    "# 0.5 + 0.5i is written as 0.5+0.5j in Python\n",
    "orbit(g,0.5+0.5j,10)\n",
    "# 0.5+0.5j is not in K_g"
   ]
  },
  {
   "cell_type": "code",
   "execution_count": 10,
   "metadata": {},
   "outputs": [],
   "source": [
    "def bounded_orbit(func,a,maxiter=10):\n",
    "    \"\"\"\n",
    "    Return True if the first `maxiter+1` elements of the orbit of `a` under `f`\n",
    "    are less than 2 in absolute value.  Otherwise return false.\n",
    "    \"\"\"\n",
    "    z = a\n",
    "    for _ in range(maxiter):\n",
    "        if abs(z) >= 2:\n",
    "            return False\n",
    "        z = func(z)\n",
    "    # if we make it here, then f was applied maxiter times\n",
    "    return abs(z) < 2   # big z -> False (unbounded),  small z -> True (bounded?)"
   ]
  },
  {
   "cell_type": "code",
   "execution_count": 12,
   "metadata": {},
   "outputs": [
    {
     "data": {
      "text/plain": [
       "False"
      ]
     },
     "execution_count": 12,
     "metadata": {},
     "output_type": "execute_result"
    }
   ],
   "source": [
    "bounded_orbit(f,2)"
   ]
  },
  {
   "cell_type": "code",
   "execution_count": 13,
   "metadata": {},
   "outputs": [
    {
     "data": {
      "text/plain": [
       "True"
      ]
     },
     "execution_count": 13,
     "metadata": {},
     "output_type": "execute_result"
    }
   ],
   "source": [
    "bounded_orbit(f,1/2)"
   ]
  },
  {
   "cell_type": "code",
   "execution_count": 14,
   "metadata": {},
   "outputs": [
    {
     "data": {
      "text/plain": [
       "True"
      ]
     },
     "execution_count": 14,
     "metadata": {},
     "output_type": "execute_result"
    }
   ],
   "source": [
    "bounded_orbit(g,1.5)"
   ]
  },
  {
   "cell_type": "code",
   "execution_count": 15,
   "metadata": {},
   "outputs": [
    {
     "data": {
      "text/plain": [
       "False"
      ]
     },
     "execution_count": 15,
     "metadata": {},
     "output_type": "execute_result"
    }
   ],
   "source": [
    "bounded_orbit(g,0.5+0.5j)"
   ]
  },
  {
   "cell_type": "markdown",
   "metadata": {},
   "source": [
    "## Making a grid\n",
    "\n",
    "`np.meshgrid` takes a vector of x values and a vector of y values.  It returns two matrices (one of x values, which change only in the rows, and one of y values, which change only in columns).\n",
    "\n",
    "It's primarily used to make matrices that give coordinates of a rectangular grid in the plane, for example to make calculations using functions of two variables."
   ]
  },
  {
   "cell_type": "code",
   "execution_count": 16,
   "metadata": {},
   "outputs": [
    {
     "data": {
      "text/plain": [
       "[array([[1, 2, 3],\n",
       "        [1, 2, 3],\n",
       "        [1, 2, 3]]),\n",
       " array([[ 8,  8,  8],\n",
       "        [ 9,  9,  9],\n",
       "        [10, 10, 10]])]"
      ]
     },
     "execution_count": 16,
     "metadata": {},
     "output_type": "execute_result"
    }
   ],
   "source": [
    "import numpy as np\n",
    "\n",
    "np.meshgrid([1,2,3],[8,9,10])"
   ]
  },
  {
   "cell_type": "code",
   "execution_count": 32,
   "metadata": {},
   "outputs": [],
   "source": [
    "x = np.linspace(-2,2,500)\n",
    "y = np.linspace(-2,2,500)\n",
    "\n",
    "xx, yy = np.meshgrid(x,y)"
   ]
  },
  {
   "cell_type": "code",
   "execution_count": 33,
   "metadata": {},
   "outputs": [
    {
     "name": "stdout",
     "output_type": "stream",
     "text": [
      "(500, 500)\n"
     ]
    },
    {
     "data": {
      "text/plain": [
       "array([[-2.        , -1.99198397, -1.98396794, ...,  1.98396794,\n",
       "         1.99198397,  2.        ],\n",
       "       [-2.        , -1.99198397, -1.98396794, ...,  1.98396794,\n",
       "         1.99198397,  2.        ],\n",
       "       [-2.        , -1.99198397, -1.98396794, ...,  1.98396794,\n",
       "         1.99198397,  2.        ],\n",
       "       ...,\n",
       "       [-2.        , -1.99198397, -1.98396794, ...,  1.98396794,\n",
       "         1.99198397,  2.        ],\n",
       "       [-2.        , -1.99198397, -1.98396794, ...,  1.98396794,\n",
       "         1.99198397,  2.        ],\n",
       "       [-2.        , -1.99198397, -1.98396794, ...,  1.98396794,\n",
       "         1.99198397,  2.        ]])"
      ]
     },
     "execution_count": 33,
     "metadata": {},
     "output_type": "execute_result"
    }
   ],
   "source": [
    "print(xx.shape)\n",
    "xx"
   ]
  },
  {
   "cell_type": "code",
   "execution_count": 34,
   "metadata": {},
   "outputs": [
    {
     "data": {
      "text/plain": [
       "array([[-2.        , -2.        , -2.        , ..., -2.        ,\n",
       "        -2.        , -2.        ],\n",
       "       [-1.99198397, -1.99198397, -1.99198397, ..., -1.99198397,\n",
       "        -1.99198397, -1.99198397],\n",
       "       [-1.98396794, -1.98396794, -1.98396794, ..., -1.98396794,\n",
       "        -1.98396794, -1.98396794],\n",
       "       ...,\n",
       "       [ 1.98396794,  1.98396794,  1.98396794, ...,  1.98396794,\n",
       "         1.98396794,  1.98396794],\n",
       "       [ 1.99198397,  1.99198397,  1.99198397, ...,  1.99198397,\n",
       "         1.99198397,  1.99198397],\n",
       "       [ 2.        ,  2.        ,  2.        , ...,  2.        ,\n",
       "         2.        ,  2.        ]])"
      ]
     },
     "execution_count": 34,
     "metadata": {},
     "output_type": "execute_result"
    }
   ],
   "source": [
    "yy"
   ]
  },
  {
   "cell_type": "code",
   "execution_count": 35,
   "metadata": {},
   "outputs": [],
   "source": [
    "zz = xx + 1j*yy"
   ]
  },
  {
   "cell_type": "code",
   "execution_count": 36,
   "metadata": {},
   "outputs": [
    {
     "data": {
      "text/plain": [
       "array([[-2.        -2.j        , -1.99198397-2.j        ,\n",
       "        -1.98396794-2.j        , ...,  1.98396794-2.j        ,\n",
       "         1.99198397-2.j        ,  2.        -2.j        ],\n",
       "       [-2.        -1.99198397j, -1.99198397-1.99198397j,\n",
       "        -1.98396794-1.99198397j, ...,  1.98396794-1.99198397j,\n",
       "         1.99198397-1.99198397j,  2.        -1.99198397j],\n",
       "       [-2.        -1.98396794j, -1.99198397-1.98396794j,\n",
       "        -1.98396794-1.98396794j, ...,  1.98396794-1.98396794j,\n",
       "         1.99198397-1.98396794j,  2.        -1.98396794j],\n",
       "       ...,\n",
       "       [-2.        +1.98396794j, -1.99198397+1.98396794j,\n",
       "        -1.98396794+1.98396794j, ...,  1.98396794+1.98396794j,\n",
       "         1.99198397+1.98396794j,  2.        +1.98396794j],\n",
       "       [-2.        +1.99198397j, -1.99198397+1.99198397j,\n",
       "        -1.98396794+1.99198397j, ...,  1.98396794+1.99198397j,\n",
       "         1.99198397+1.99198397j,  2.        +1.99198397j],\n",
       "       [-2.        +2.j        , -1.99198397+2.j        ,\n",
       "        -1.98396794+2.j        , ...,  1.98396794+2.j        ,\n",
       "         1.99198397+2.j        ,  2.        +2.j        ]])"
      ]
     },
     "execution_count": 36,
     "metadata": {},
     "output_type": "execute_result"
    }
   ],
   "source": [
    "zz # 50 x 50 matrix"
   ]
  },
  {
   "cell_type": "markdown",
   "metadata": {},
   "source": [
    "## Classifying orbits"
   ]
  },
  {
   "cell_type": "code",
   "execution_count": 37,
   "metadata": {},
   "outputs": [],
   "source": [
    "# Make bounded_order into a unary function by partial eval.\n",
    "def has_bounded_orbit_under_g(a):\n",
    "    return bounded_orbit(g,a,maxiter=100)"
   ]
  },
  {
   "cell_type": "code",
   "execution_count": 38,
   "metadata": {},
   "outputs": [
    {
     "data": {
      "text/plain": [
       "True"
      ]
     },
     "execution_count": 38,
     "metadata": {},
     "output_type": "execute_result"
    }
   ],
   "source": [
    "has_bounded_orbit_under_g(1.5)"
   ]
  },
  {
   "cell_type": "code",
   "execution_count": 39,
   "metadata": {},
   "outputs": [],
   "source": [
    "# np.vectorize turns a func into a ufunc\n",
    "orbit_classification = np.vectorize(has_bounded_orbit_under_g)(zz)"
   ]
  },
  {
   "cell_type": "code",
   "execution_count": 40,
   "metadata": {},
   "outputs": [
    {
     "name": "stdout",
     "output_type": "stream",
     "text": [
      "(500, 500)\n",
      "bool\n"
     ]
    },
    {
     "data": {
      "text/plain": [
       "array([[False, False, False, ..., False, False, False],\n",
       "       [False, False, False, ..., False, False, False],\n",
       "       [False, False, False, ..., False, False, False],\n",
       "       ...,\n",
       "       [False, False, False, ..., False, False, False],\n",
       "       [False, False, False, ..., False, False, False],\n",
       "       [False, False, False, ..., False, False, False]])"
      ]
     },
     "execution_count": 40,
     "metadata": {},
     "output_type": "execute_result"
    }
   ],
   "source": [
    "print(orbit_classification.shape)\n",
    "print(orbit_classification.dtype)\n",
    "orbit_classification"
   ]
  },
  {
   "cell_type": "code",
   "execution_count": 41,
   "metadata": {},
   "outputs": [
    {
     "data": {
      "text/plain": [
       "False"
      ]
     },
     "execution_count": 41,
     "metadata": {},
     "output_type": "execute_result"
    }
   ],
   "source": [
    "orbit_classification[23,23]"
   ]
  },
  {
   "cell_type": "markdown",
   "metadata": {},
   "source": [
    "## Making an image\n",
    "\n",
    "`PIL.Image.fromarray` turns an array of `uint8` values into a grayscale image."
   ]
  },
  {
   "cell_type": "code",
   "execution_count": 29,
   "metadata": {},
   "outputs": [],
   "source": [
    "from PIL import Image"
   ]
  },
  {
   "cell_type": "code",
   "execution_count": 42,
   "metadata": {},
   "outputs": [
    {
     "data": {
      "image/png": "[encoded data removed]",
      "text/plain": [
       "<PIL.Image.Image image mode=L size=500x500 at 0x152F1A47CA0>"
      ]
     },
     "execution_count": 42,
     "metadata": {},
     "output_type": "execute_result"
    }
   ],
   "source": [
    "Image.fromarray(255*(1-orbit_classification.astype(\"uint8\")),mode=\"L\")"
   ]
  },
  {
   "cell_type": "markdown",
   "metadata": {},
   "source": [
    "The filled Julia set of $g(z) = z^2-1$, often called \"the basilica\""
   ]
  },
  {
   "cell_type": "code",
   "execution_count": null,
   "metadata": {},
   "outputs": [],
   "source": []
  }
 ],
 "metadata": {
  "kernelspec": {
   "display_name": "Python 3 (ipykernel)",
   "language": "python",
   "name": "python3"
  },
  "language_info": {
   "codemirror_mode": {
    "name": "ipython",
    "version": 3
   },
   "file_extension": ".py",
   "mimetype": "text/x-python",
   "name": "python",
   "nbconvert_exporter": "python",
   "pygments_lexer": "ipython3",
   "version": "3.9.10"
  }
 },
 "nbformat": 4,
 "nbformat_minor": 4
}

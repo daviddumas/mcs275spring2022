{
 "cells": [
  {
   "cell_type": "markdown",
   "id": "0ed9819e",
   "metadata": {},
   "source": [
    "# Scrape the table of upcoming UIC math grad courses"
   ]
  },
  {
   "cell_type": "code",
   "execution_count": 6,
   "id": "355ab481",
   "metadata": {},
   "outputs": [],
   "source": [
    "from bs4 import BeautifulSoup\n",
    "from urllib.request import urlopen\n",
    "import csv\n",
    "import os"
   ]
  },
  {
   "cell_type": "code",
   "execution_count": 7,
   "id": "549fbae7",
   "metadata": {},
   "outputs": [],
   "source": [
    "PAGEURL = \"https://mscs.uic.edu/graduate/current-students/advising-and-registration/graduate-courses/\"\n",
    "CACHEFILE = \"toscrape.html\""
   ]
  },
  {
   "cell_type": "code",
   "execution_count": 8,
   "id": "9aff00f9",
   "metadata": {},
   "outputs": [],
   "source": [
    "def get_page_soup():\n",
    "    if os.path.exists(CACHEFILE):\n",
    "        with open(CACHEFILE,\"r\") as fp:\n",
    "            return BeautifulSoup(fp,\"html.parser\")\n",
    "    else:\n",
    "        print(\"No cached copy; retrieving '{}'\".format(PAGEURL))\n",
    "        with urlopen(PAGEURL) as res:\n",
    "            s = res.read().decode(res.headers.get_content_charset())\n",
    "            with open(CACHEFILE,\"w\") as fp:\n",
    "                fp.write(s)\n",
    "            return BeautifulSoup(s,\"html.parser\")"
   ]
  },
  {
   "cell_type": "code",
   "execution_count": 11,
   "id": "6b9f0edb",
   "metadata": {},
   "outputs": [],
   "source": [
    "soup = get_page_soup()"
   ]
  },
  {
   "cell_type": "code",
   "execution_count": 15,
   "id": "54d78ed0",
   "metadata": {
    "scrolled": true
   },
   "outputs": [],
   "source": [
    "# First let's find the table tag we want, for Fall 2022\n",
    "\n",
    "for section in soup.find_all(\"section\"):\n",
    "    h2 = section.find(\"h2\",id=\"fall-2022-graduate-courses\")\n",
    "    if h2:\n",
    "        # This is the right section, so let's get its first table\n",
    "        table = section.find(\"table\")\n",
    "        # No need to look further, so let's break out of the loop\n",
    "        break"
   ]
  },
  {
   "cell_type": "code",
   "execution_count": 22,
   "id": "8216464b",
   "metadata": {},
   "outputs": [
    {
     "name": "stdout",
     "output_type": "stream",
     "text": [
      "Done, processed 19 rows\n"
     ]
    }
   ],
   "source": [
    "nrows = 0\n",
    "with open(\"fall2022courses.csv\",\"w\",newline=\"\",encoding=\"UTF-8\") as fp:\n",
    "    writer = csv.writer(fp)\n",
    "    for row in table.find_all(\"tr\"):\n",
    "        row_cells = [ cell.text.replace(\"\\n\",\" \") for cell in row.find_all( [\"th\", \"td\"] ) ]\n",
    "        # list like [\"Course\",\"Description\",...]\n",
    "        writer.writerow(row_cells)\n",
    "        nrows += 1\n",
    "print(\"Done, processed {} rows\".format(nrows))"
   ]
  },
  {
   "cell_type": "code",
   "execution_count": null,
   "id": "501e402f",
   "metadata": {},
   "outputs": [],
   "source": []
  }
 ],
 "metadata": {
  "kernelspec": {
   "display_name": "Python 3 (ipykernel)",
   "language": "python",
   "name": "python3"
  },
  "language_info": {
   "codemirror_mode": {
    "name": "ipython",
    "version": 3
   },
   "file_extension": ".py",
   "mimetype": "text/x-python",
   "name": "python",
   "nbconvert_exporter": "python",
   "pygments_lexer": "ipython3",
   "version": "3.9.12"
  }
 },
 "nbformat": 4,
 "nbformat_minor": 5
}

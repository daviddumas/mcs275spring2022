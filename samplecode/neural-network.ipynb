{
 "cells": [
  {
   "cell_type": "markdown",
   "id": "61aeb02b",
   "metadata": {},
   "source": [
    "# MCS 275 Spring 2022 - Example neural network (lecture 31)"
   ]
  },
  {
   "cell_type": "markdown",
   "id": "f39b40a0",
   "metadata": {},
   "source": [
    "In this notebook, we use `scikit-learn` to create a neural network to recognize images of hand-written digits.\n",
    "\n",
    "We download a copy of a data set called \"MNIST\", which contains `28 x 28` pixel images of digits."
   ]
  },
  {
   "cell_type": "code",
   "execution_count": 1,
   "id": "600132b2",
   "metadata": {},
   "outputs": [],
   "source": [
    "import matplotlib.pyplot as plt\n",
    "import numpy as np\n",
    "\n",
    "from sklearn.datasets import fetch_openml\n",
    "from sklearn.neural_network import MLPClassifier"
   ]
  },
  {
   "cell_type": "markdown",
   "id": "a9c65251",
   "metadata": {},
   "source": [
    "## Setting up the data set"
   ]
  },
  {
   "cell_type": "code",
   "execution_count": 2,
   "id": "56b659cb",
   "metadata": {},
   "outputs": [],
   "source": [
    "# Import data set of 28 x 28 pixel images of hand-written digits (this data set is called \"MNIST\")\n",
    "X, y = fetch_openml('mnist_784', version=1, return_X_y=True)\n",
    "X = X / 256\n",
    "\n",
    "\n",
    "# Take first 10k images for training\n",
    "# Take next 10k images to test afterwards\n",
    "X_train, X_test = X[:10_000], X[10_000:20_000]\n",
    "y_train, y_test = y[:10_000], y[10_000:20_000]"
   ]
  },
  {
   "cell_type": "code",
   "execution_count": 8,
   "id": "2945348a",
   "metadata": {},
   "outputs": [
    {
     "name": "stdout",
     "output_type": "stream",
     "text": [
      "   pixel1  pixel2  pixel3  pixel4  pixel5  pixel6  pixel7  pixel8  pixel9  \\\n",
      "0     0.0     0.0     0.0     0.0     0.0     0.0     0.0     0.0     0.0   \n",
      "1     0.0     0.0     0.0     0.0     0.0     0.0     0.0     0.0     0.0   \n",
      "2     0.0     0.0     0.0     0.0     0.0     0.0     0.0     0.0     0.0   \n",
      "3     0.0     0.0     0.0     0.0     0.0     0.0     0.0     0.0     0.0   \n",
      "4     0.0     0.0     0.0     0.0     0.0     0.0     0.0     0.0     0.0   \n",
      "\n",
      "   pixel10  ...  pixel775  pixel776  pixel777  pixel778  pixel779  pixel780  \\\n",
      "0      0.0  ...       0.0       0.0       0.0       0.0       0.0       0.0   \n",
      "1      0.0  ...       0.0       0.0       0.0       0.0       0.0       0.0   \n",
      "2      0.0  ...       0.0       0.0       0.0       0.0       0.0       0.0   \n",
      "3      0.0  ...       0.0       0.0       0.0       0.0       0.0       0.0   \n",
      "4      0.0  ...       0.0       0.0       0.0       0.0       0.0       0.0   \n",
      "\n",
      "   pixel781  pixel782  pixel783  pixel784  \n",
      "0       0.0       0.0       0.0       0.0  \n",
      "1       0.0       0.0       0.0       0.0  \n",
      "2       0.0       0.0       0.0       0.0  \n",
      "3       0.0       0.0       0.0       0.0  \n",
      "4       0.0       0.0       0.0       0.0  \n",
      "\n",
      "[5 rows x 784 columns]\n"
     ]
    }
   ],
   "source": [
    "print(X_train.head())"
   ]
  },
  {
   "cell_type": "code",
   "execution_count": 9,
   "id": "9ff21d71",
   "metadata": {
    "scrolled": true
   },
   "outputs": [
    {
     "data": {
      "image/png": "[encoded data removed]",
      "text/plain": [
       "<Figure size 432x288 with 1 Axes>"
      ]
     },
     "metadata": {
      "needs_background": "light"
     },
     "output_type": "display_data"
    }
   ],
   "source": [
    "def display_digit(img):\n",
    "    '''Take an image from our data set and display it'''\n",
    "    img = img.values.reshape(28,28)\n",
    "    plt.imshow(img, cmap = \"gray_r\")\n",
    "    \n",
    "    \n",
    "img = X_train.iloc[0]\n",
    "display_digit(img)"
   ]
  },
  {
   "cell_type": "markdown",
   "id": "d427ca54",
   "metadata": {},
   "source": [
    "## Creating the neural network"
   ]
  },
  {
   "cell_type": "code",
   "execution_count": 10,
   "id": "c4d91d58",
   "metadata": {},
   "outputs": [],
   "source": [
    "# This is the neural network\n",
    "# \"MLP\" stands for \"multi-layer perceptron\"\n",
    "\n",
    "mlp = MLPClassifier(hidden_layer_sizes = (50,), solver = 'sgd', max_iter = 20, verbose = True, batch_size = 200)"
   ]
  },
  {
   "cell_type": "markdown",
   "id": "366c3f83",
   "metadata": {},
   "source": [
    "The neural network will have 10 outputs, each corresponding to how much it \"thinks\" each digit is in the image"
   ]
  },
  {
   "cell_type": "markdown",
   "id": "ae1ebd01",
   "metadata": {},
   "source": [
    "![title](images/l31-mnist-nn.png)\n",
    "\n",
    "\n",
    "\n",
    "Image source: https://zitaoshen.rbind.io/project/machine_learning/how-to-build-your-own-neural-net-from-the-scrach/ (slightly edited)"
   ]
  },
  {
   "cell_type": "code",
   "execution_count": 11,
   "id": "cc01d7ba",
   "metadata": {
    "scrolled": true
   },
   "outputs": [
    {
     "name": "stdout",
     "output_type": "stream",
     "text": [
      "Iteration 1, loss = 2.19789284\n",
      "Iteration 2, loss = 1.88753565\n",
      "Iteration 3, loss = 1.59275457\n",
      "Iteration 4, loss = 1.34030497\n",
      "Iteration 5, loss = 1.14662970\n",
      "Iteration 6, loss = 1.00098521\n",
      "Iteration 7, loss = 0.89201871\n",
      "Iteration 8, loss = 0.80850062\n",
      "Iteration 9, loss = 0.74335291\n",
      "Iteration 10, loss = 0.69135861\n",
      "Iteration 11, loss = 0.64910542\n",
      "Iteration 12, loss = 0.61420176\n",
      "Iteration 13, loss = 0.58497128\n",
      "Iteration 14, loss = 0.56007951\n",
      "Iteration 15, loss = 0.53848647\n",
      "Iteration 16, loss = 0.51980741\n",
      "Iteration 17, loss = 0.50313416\n",
      "Iteration 18, loss = 0.48836820\n",
      "Iteration 19, loss = 0.47551197\n",
      "Iteration 20, loss = 0.46368211\n"
     ]
    },
    {
     "name": "stderr",
     "output_type": "stream",
     "text": [
      "C:\\Users\\Johnn\\AppData\\Roaming\\Python\\Python310\\site-packages\\sklearn\\neural_network\\_multilayer_perceptron.py:692: ConvergenceWarning: Stochastic Optimizer: Maximum iterations (20) reached and the optimization hasn't converged yet.\n",
      "  warnings.warn(\n"
     ]
    },
    {
     "data": {
      "text/plain": [
       "MLPClassifier(batch_size=200, hidden_layer_sizes=(50,), max_iter=20,\n",
       "              solver='sgd', verbose=True)"
      ]
     },
     "execution_count": 11,
     "metadata": {},
     "output_type": "execute_result"
    }
   ],
   "source": [
    "# Train the neural network on the data set\n",
    "mlp.fit(X_train, y_train)"
   ]
  },
  {
   "cell_type": "markdown",
   "id": "adcf8429",
   "metadata": {},
   "source": [
    "## Testing the neural network on data it has never seen before\n",
    "\n",
    "To pick a different example, change the number in the first line (so that we choose a different row from `X_test`)"
   ]
  },
  {
   "cell_type": "code",
   "execution_count": 12,
   "id": "72ff1ce8",
   "metadata": {},
   "outputs": [
    {
     "name": "stdout",
     "output_type": "stream",
     "text": [
      "The neural network thinks this is a ['9']\n"
     ]
    },
    {
     "name": "stderr",
     "output_type": "stream",
     "text": [
      "C:\\Users\\Johnn\\AppData\\Roaming\\Python\\Python310\\site-packages\\sklearn\\base.py:450: UserWarning: X does not have valid feature names, but MLPClassifier was fitted with feature names\n",
      "  warnings.warn(\n"
     ]
    },
    {
     "data": {
      "image/png": "[encoded data removed]",
      "text/plain": [
       "<Figure size 432x288 with 1 Axes>"
      ]
     },
     "metadata": {
      "needs_background": "light"
     },
     "output_type": "display_data"
    }
   ],
   "source": [
    "# Pick an image from our test set (never seen before by our neural network)\n",
    "test_img = X_test.iloc[1300]\n",
    "\n",
    "# Show it to us\n",
    "display_digit(test_img)\n",
    "\n",
    "# Change it from a pandas series to a NumPy array (and flip its dimensions)\n",
    "test_img = test_img.values.reshape(1, -1)\n",
    "\n",
    "# Ask the neural network what digit this is\n",
    "prediction = mlp.predict(test_img)\n",
    "\n",
    "print(\"The neural network thinks this is a {}\".format(prediction))"
   ]
  },
  {
   "cell_type": "markdown",
   "id": "537fd243",
   "metadata": {},
   "source": [
    "# Extra: \"Fashion MNIST\""
   ]
  },
  {
   "cell_type": "markdown",
   "id": "3216c2a2",
   "metadata": {},
   "source": [
    "This does the exact same thing as before, but now each image represents an article of clothing instead of a digit. The images are still `28 x 28` pixels. This data set is called \"Fashion MNIST\""
   ]
  },
  {
   "cell_type": "code",
   "execution_count": 3,
   "id": "23ce4998",
   "metadata": {},
   "outputs": [],
   "source": [
    "# Import the modules and data\n",
    "\n",
    "import matplotlib.pyplot as plt\n",
    "import numpy as np\n",
    "\n",
    "from sklearn.datasets import fetch_openml\n",
    "from sklearn.neural_network import MLPClassifier\n",
    "\n",
    "\n",
    "X2, y2 = fetch_openml('Fashion-MNIST', version=1, return_X_y=True)\n",
    "\n",
    "X_train2, X_test2 = X2[:10_000], X2[10_000:20_000]\n",
    "y_train2, y_test2 = y2[:10_000], y2[10_000:20_000]"
   ]
  },
  {
   "cell_type": "code",
   "execution_count": 5,
   "id": "f8b02263",
   "metadata": {
    "scrolled": true
   },
   "outputs": [
    {
     "data": {
      "image/png": "[encoded data removed]",
      "text/plain": [
       "<Figure size 432x288 with 1 Axes>"
      ]
     },
     "metadata": {
      "needs_background": "light"
     },
     "output_type": "display_data"
    }
   ],
   "source": [
    "# Show one of the images\n",
    "img = X_train2.iloc[0]\n",
    "display_digit(img)"
   ]
  },
  {
   "cell_type": "code",
   "execution_count": 6,
   "id": "7e770982",
   "metadata": {},
   "outputs": [
    {
     "name": "stdout",
     "output_type": "stream",
     "text": [
      "Iteration 1, loss = 5.09749430\n",
      "Iteration 2, loss = 2.27967655\n",
      "Iteration 3, loss = 2.26528329\n",
      "Iteration 4, loss = 2.25191156\n",
      "Iteration 5, loss = 2.24061995\n",
      "Iteration 6, loss = 2.19851438\n",
      "Iteration 7, loss = 2.13305960\n",
      "Iteration 8, loss = 2.10783112\n",
      "Iteration 9, loss = 2.08917023\n",
      "Iteration 10, loss = 2.10318810\n",
      "Iteration 11, loss = 2.06966528\n",
      "Iteration 12, loss = 2.06530811\n",
      "Iteration 13, loss = 2.04591022\n",
      "Iteration 14, loss = 2.05124940\n",
      "Iteration 15, loss = 2.04510921\n",
      "Iteration 16, loss = 1.99601390\n",
      "Iteration 17, loss = 1.90415640\n",
      "Iteration 18, loss = 2.00042747\n",
      "Iteration 19, loss = 1.98161981\n",
      "Iteration 20, loss = 1.87486291\n"
     ]
    },
    {
     "name": "stderr",
     "output_type": "stream",
     "text": [
      "C:\\Users\\Johnn\\AppData\\Roaming\\Python\\Python310\\site-packages\\sklearn\\neural_network\\_multilayer_perceptron.py:692: ConvergenceWarning: Stochastic Optimizer: Maximum iterations (20) reached and the optimization hasn't converged yet.\n",
      "  warnings.warn(\n"
     ]
    },
    {
     "data": {
      "text/plain": [
       "MLPClassifier(batch_size=200, hidden_layer_sizes=(50,), max_iter=20,\n",
       "              solver='sgd', verbose=True)"
      ]
     },
     "execution_count": 6,
     "metadata": {},
     "output_type": "execute_result"
    }
   ],
   "source": [
    "# Create and train the neural network\n",
    "\n",
    "mlp = MLPClassifier(hidden_layer_sizes = (50,), solver = 'sgd', max_iter = 20, verbose = True, batch_size = 200)\n",
    "\n",
    "mlp.fit(X_train2, y_train2)"
   ]
  },
  {
   "cell_type": "code",
   "execution_count": 7,
   "id": "af2f20d8",
   "metadata": {},
   "outputs": [
    {
     "name": "stdout",
     "output_type": "stream",
     "text": [
      "The neural network thinks this is a shirt\n"
     ]
    },
    {
     "name": "stderr",
     "output_type": "stream",
     "text": [
      "C:\\Users\\Johnn\\AppData\\Roaming\\Python\\Python310\\site-packages\\sklearn\\base.py:450: UserWarning: X does not have valid feature names, but MLPClassifier was fitted with feature names\n",
      "  warnings.warn(\n"
     ]
    },
    {
     "data": {
      "image/png": "[encoded data removed]",
      "text/plain": [
       "<Figure size 432x288 with 1 Axes>"
      ]
     },
     "metadata": {
      "needs_background": "light"
     },
     "output_type": "display_data"
    }
   ],
   "source": [
    "# Dict for converting our predictions into actual words\n",
    "fashion_dict = {\"0\" : \"T-shirt\", \n",
    "                \"1\" : \"pair of trousers\",\n",
    "                \"2\" : \"pullover\",\n",
    "                \"3\" : \"dress\",\n",
    "                \"4\" : \"coat\",\n",
    "                \"5\" : \"sandal\",\n",
    "                \"6\" : \"shirt\",\n",
    "                \"7\" : \"sneaker\",\n",
    "                \"8\" : \"bag\",\n",
    "                \"9\" : \"ankle boot\"}\n",
    "\n",
    "# Pick an image from our test set (never seen before by our neural network)\n",
    "test_img = X_test2.iloc[300]\n",
    "\n",
    "# Show it to us\n",
    "display_digit(test_img)\n",
    "\n",
    "# Change it from a pandas series to a NumPy array (and flip its dimensions)\n",
    "test_img = test_img.values.reshape(1, -1)\n",
    "\n",
    "# Ask the neural network what digit this is\n",
    "prediction = mlp.predict(test_img)\n",
    "prediction = fashion_dict[prediction[0]]\n",
    "\n",
    "print(\"The neural network thinks this is a {}\".format(prediction))"
   ]
  },
  {
   "cell_type": "markdown",
   "id": "040352f2",
   "metadata": {},
   "source": [
    "Note: You may notice that the predictions are sometimes less accurate on this version. This is because some problems are harder to \"learn\" than others, and we used the exact same model for both problems. More advanced models can provide better performance."
   ]
  }
 ],
 "metadata": {
  "kernelspec": {
   "display_name": "Python 3 (ipykernel)",
   "language": "python",
   "name": "python3"
  },
  "language_info": {
   "codemirror_mode": {
    "name": "ipython",
    "version": 3
   },
   "file_extension": ".py",
   "mimetype": "text/x-python",
   "name": "python",
   "nbconvert_exporter": "python",
   "pygments_lexer": "ipython3",
   "version": "3.10.2"
  }
 },
 "nbformat": 4,
 "nbformat_minor": 5
}

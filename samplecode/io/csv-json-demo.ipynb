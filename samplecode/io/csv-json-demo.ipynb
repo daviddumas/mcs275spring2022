{
 "cells": [
  {
   "cell_type": "markdown",
   "metadata": {},
   "source": [
    "# Write a simple CSV file"
   ]
  },
  {
   "cell_type": "code",
   "execution_count": 3,
   "metadata": {},
   "outputs": [],
   "source": [
    "import csv\n",
    "import os"
   ]
  },
  {
   "cell_type": "code",
   "execution_count": 5,
   "metadata": {},
   "outputs": [],
   "source": [
    "assert not os.path.exists(\"intdata.csv\")\n",
    "\n",
    "with open(\"intdata.csv\",\"w\",newline=\"\",encoding=\"UTF-8\") as fp:\n",
    "    writer = csv.writer(fp)\n",
    "    writer.writerow([\"n\",\"iseven\",\"issquare\"])\n",
    "    for n in range(1,11):\n",
    "        iseven = (n % 2 == 0)\n",
    "        issquare = (int(n**0.5)**2 == n)\n",
    "        writer.writerow([n,iseven,issquare])"
   ]
  },
  {
   "cell_type": "markdown",
   "metadata": {},
   "source": [
    "# Read a simple CSV file"
   ]
  },
  {
   "cell_type": "code",
   "execution_count": 8,
   "metadata": {},
   "outputs": [
    {
     "name": "stdout",
     "output_type": "stream",
     "text": [
      "Is the integer 1 a square?  True\n",
      "Is the integer 2 a square?  False\n",
      "Is the integer 3 a square?  False\n",
      "Is the integer 4 a square?  True\n",
      "Is the integer 5 a square?  False\n",
      "Is the integer 6 a square?  False\n",
      "Is the integer 7 a square?  False\n",
      "Is the integer 8 a square?  False\n",
      "Is the integer 9 a square?  True\n",
      "Is the integer 10 a square?  False\n"
     ]
    }
   ],
   "source": [
    "with open(\"intdata.csv\",\"r\",newline=\"\",encoding=\"UTF-8\") as fp:\n",
    "    reader = csv.DictReader(fp)\n",
    "    for row in reader:\n",
    "        # now I can do stuff with a single row of the CSV file\n",
    "        print(\"Is the integer {} a square?  {}\".format(\n",
    "            row[\"n\"],\n",
    "            row[\"issquare\"]\n",
    "        ))"
   ]
  },
  {
   "cell_type": "markdown",
   "metadata": {},
   "source": [
    "# Write a JSON file"
   ]
  },
  {
   "cell_type": "code",
   "execution_count": 2,
   "metadata": {},
   "outputs": [],
   "source": [
    "import json"
   ]
  },
  {
   "cell_type": "code",
   "execution_count": 3,
   "metadata": {},
   "outputs": [],
   "source": [
    "data = [\n",
    "    { \"name\": \"MATH 445\",\n",
    "      \"instructor\": \"Dumas\",\n",
    "      \"semester\": \"Fall\",\n",
    "      \"year\": 2015,\n",
    "      \"complete\": True \n",
    "    },\n",
    "    { \"name\": \"MCS 260\",\n",
    "      \"instructor\": \"Dumas\",\n",
    "      \"semester\": \"Fall\",\n",
    "      \"year\": 2021,\n",
    "      \"complete\": True\n",
    "    },\n",
    "    { \"name\": \"MCS 275\",\n",
    "      \"instructor\": \"Dumas\",\n",
    "      \"semester\": \"Spring\",\n",
    "      \"year\": 2022,\n",
    "      \"complete\": False\n",
    "    },\n",
    "]\n",
    "\n",
    "with open(\"coursedata.json\",\"w\",encoding=\"UTF-8\") as fp:\n",
    "    json.dump(data,fp) # Save object `data` to file object `fp`"
   ]
  },
  {
   "cell_type": "markdown",
   "metadata": {},
   "source": [
    "# Read a simple JSON file"
   ]
  },
  {
   "cell_type": "code",
   "execution_count": 4,
   "metadata": {},
   "outputs": [],
   "source": [
    "with open(\"coursedata.json\",\"r\",encoding=\"UTF-8\") as fp:\n",
    "    x = json.load(fp)"
   ]
  },
  {
   "cell_type": "code",
   "execution_count": 5,
   "metadata": {},
   "outputs": [
    {
     "data": {
      "text/plain": [
       "[{'name': 'MATH 445',\n",
       "  'instructor': 'Dumas',\n",
       "  'semester': 'Fall',\n",
       "  'year': 2015,\n",
       "  'complete': True},\n",
       " {'name': 'MCS 260',\n",
       "  'instructor': 'Dumas',\n",
       "  'semester': 'Fall',\n",
       "  'year': 2021,\n",
       "  'complete': True},\n",
       " {'name': 'MCS 275',\n",
       "  'instructor': 'Dumas',\n",
       "  'semester': 'Spring',\n",
       "  'year': 2022,\n",
       "  'complete': False}]"
      ]
     },
     "execution_count": 5,
     "metadata": {},
     "output_type": "execute_result"
    }
   ],
   "source": [
    "x"
   ]
  },
  {
   "cell_type": "code",
   "execution_count": 14,
   "metadata": {},
   "outputs": [
    {
     "data": {
      "text/plain": [
       "list"
      ]
     },
     "execution_count": 14,
     "metadata": {},
     "output_type": "execute_result"
    }
   ],
   "source": [
    "type(x)"
   ]
  },
  {
   "cell_type": "code",
   "execution_count": 15,
   "metadata": {},
   "outputs": [
    {
     "data": {
      "text/plain": [
       "2"
      ]
     },
     "execution_count": 15,
     "metadata": {},
     "output_type": "execute_result"
    }
   ],
   "source": [
    "len(x)"
   ]
  },
  {
   "cell_type": "code",
   "execution_count": 17,
   "metadata": {},
   "outputs": [
    {
     "data": {
      "text/plain": [
       "'MCS 260'"
      ]
     },
     "execution_count": 17,
     "metadata": {},
     "output_type": "execute_result"
    }
   ],
   "source": [
    "x[0][\"name\"]"
   ]
  },
  {
   "cell_type": "code",
   "execution_count": 6,
   "metadata": {},
   "outputs": [
    {
     "data": {
      "text/plain": [
       "[{'name': 'MATH 445',\n",
       "  'instructor': 'Dumas',\n",
       "  'semester': 'Fall',\n",
       "  'year': 2015,\n",
       "  'complete': True},\n",
       " {'name': 'MCS 260',\n",
       "  'instructor': 'Dumas',\n",
       "  'semester': 'Fall',\n",
       "  'year': 2021,\n",
       "  'complete': True}]"
      ]
     },
     "execution_count": 6,
     "metadata": {},
     "output_type": "execute_result"
    }
   ],
   "source": [
    "# A list of just the courses marked as \"complete\"\n",
    "[ c for c in x if c[\"complete\"] ]"
   ]
  },
  {
   "cell_type": "markdown",
   "metadata": {},
   "source": [
    "# Parting advice\n",
    "\n",
    "Suppose you've loaded the data from a JSON file, and you don't know its structure.  It can be deeply nested, making direct analysis (print and read) difficult.  What can you do?\n",
    "\n",
    "* `type()` to check what kind of object you got\n",
    "* `len()` to check how big a list is\n",
    "* `x[0]`, `x[1]`, etc. to get a single element from a list for further study\n",
    "* `.keys()` to see the keys of a dict (which might have huge values, making the keys hard to spot if you just print it)"
   ]
  }
 ],
 "metadata": {
  "kernelspec": {
   "display_name": "Python 3",
   "language": "python",
   "name": "python3"
  },
  "language_info": {
   "codemirror_mode": {
    "name": "ipython",
    "version": 3
   },
   "file_extension": ".py",
   "mimetype": "text/x-python",
   "name": "python",
   "nbconvert_exporter": "python",
   "pygments_lexer": "ipython3",
   "version": "3.8.10"
  }
 },
 "nbformat": 4,
 "nbformat_minor": 5
}
